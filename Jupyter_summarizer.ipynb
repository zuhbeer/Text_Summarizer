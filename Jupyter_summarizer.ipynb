{
 "cells": [
  {
   "cell_type": "markdown",
   "metadata": {},
   "source": [
    "## import some data (text), clean, and use a keras encoder/decoder LSTM RNN to generate summaries"
   ]
  },
  {
   "cell_type": "code",
   "execution_count": 1,
   "metadata": {},
   "outputs": [
    {
     "name": "stderr",
     "output_type": "stream",
     "text": [
      "Using TensorFlow backend.\n"
     ]
    }
   ],
   "source": [
    "import numpy as np\n",
    "import pandas as pd \n",
    "import requests, re, spacy\n",
    "nlp = spacy.load('en')\n",
    "from bs4 import BeautifulSoup as BS\n",
    "from keras.preprocessing.text import Tokenizer \n",
    "from keras.preprocessing.sequence import pad_sequences\n",
    "from nltk.corpus import stopwords\n",
    "from tensorflow.keras.layers import Input, LSTM, Embedding, Dense, Concatenate, TimeDistributed\n",
    "from tensorflow.keras.models import Model\n",
    "from tensorflow.keras.callbacks import EarlyStopping\n",
    "import warnings\n",
    "from attention import AttentionLayer\n",
    "pd.set_option(\"display.max_colwidth\", 200)\n",
    "warnings.filterwarnings(\"ignore\")"
   ]
  },
  {
   "cell_type": "markdown",
   "metadata": {},
   "source": [
    "### reading in data with Pandas"
   ]
  },
  {
   "cell_type": "code",
   "execution_count": 2,
   "metadata": {},
   "outputs": [],
   "source": [
    "reviews=pd.read_csv(\"data/Reviews.csv\",nrows=100000)"
   ]
  },
  {
   "cell_type": "code",
   "execution_count": 3,
   "metadata": {},
   "outputs": [],
   "source": [
    "reviews.drop_duplicates(subset=['Text'],inplace=True)\n",
    "reviews.dropna(axis=0,inplace=True)"
   ]
  },
  {
   "cell_type": "code",
   "execution_count": 4,
   "metadata": {},
   "outputs": [
    {
     "data": {
      "text/html": [
       "<div>\n",
       "<style scoped>\n",
       "    .dataframe tbody tr th:only-of-type {\n",
       "        vertical-align: middle;\n",
       "    }\n",
       "\n",
       "    .dataframe tbody tr th {\n",
       "        vertical-align: top;\n",
       "    }\n",
       "\n",
       "    .dataframe thead th {\n",
       "        text-align: right;\n",
       "    }\n",
       "</style>\n",
       "<table border=\"1\" class=\"dataframe\">\n",
       "  <thead>\n",
       "    <tr style=\"text-align: right;\">\n",
       "      <th></th>\n",
       "      <th>Id</th>\n",
       "      <th>ProductId</th>\n",
       "      <th>UserId</th>\n",
       "      <th>ProfileName</th>\n",
       "      <th>HelpfulnessNumerator</th>\n",
       "      <th>HelpfulnessDenominator</th>\n",
       "      <th>Score</th>\n",
       "      <th>Time</th>\n",
       "      <th>Summary</th>\n",
       "      <th>Text</th>\n",
       "    </tr>\n",
       "  </thead>\n",
       "  <tbody>\n",
       "    <tr>\n",
       "      <th>0</th>\n",
       "      <td>1</td>\n",
       "      <td>B001E4KFG0</td>\n",
       "      <td>A3SGXH7AUHU8GW</td>\n",
       "      <td>delmartian</td>\n",
       "      <td>1</td>\n",
       "      <td>1</td>\n",
       "      <td>5</td>\n",
       "      <td>1303862400</td>\n",
       "      <td>Good Quality Dog Food</td>\n",
       "      <td>I have bought several of the Vitality canned dog food products and have found them all to be of good quality. The product looks more like a stew than a processed meat and it smells better. My Labr...</td>\n",
       "    </tr>\n",
       "    <tr>\n",
       "      <th>1</th>\n",
       "      <td>2</td>\n",
       "      <td>B00813GRG4</td>\n",
       "      <td>A1D87F6ZCVE5NK</td>\n",
       "      <td>dll pa</td>\n",
       "      <td>0</td>\n",
       "      <td>0</td>\n",
       "      <td>1</td>\n",
       "      <td>1346976000</td>\n",
       "      <td>Not as Advertised</td>\n",
       "      <td>Product arrived labeled as Jumbo Salted Peanuts...the peanuts were actually small sized unsalted. Not sure if this was an error or if the vendor intended to represent the product as \"Jumbo\".</td>\n",
       "    </tr>\n",
       "    <tr>\n",
       "      <th>2</th>\n",
       "      <td>3</td>\n",
       "      <td>B000LQOCH0</td>\n",
       "      <td>ABXLMWJIXXAIN</td>\n",
       "      <td>Natalia Corres \"Natalia Corres\"</td>\n",
       "      <td>1</td>\n",
       "      <td>1</td>\n",
       "      <td>4</td>\n",
       "      <td>1219017600</td>\n",
       "      <td>\"Delight\" says it all</td>\n",
       "      <td>This is a confection that has been around a few centuries.  It is a light, pillowy citrus gelatin with nuts - in this case Filberts. And it is cut into tiny squares and then liberally coated with ...</td>\n",
       "    </tr>\n",
       "    <tr>\n",
       "      <th>3</th>\n",
       "      <td>4</td>\n",
       "      <td>B000UA0QIQ</td>\n",
       "      <td>A395BORC6FGVXV</td>\n",
       "      <td>Karl</td>\n",
       "      <td>3</td>\n",
       "      <td>3</td>\n",
       "      <td>2</td>\n",
       "      <td>1307923200</td>\n",
       "      <td>Cough Medicine</td>\n",
       "      <td>If you are looking for the secret ingredient in Robitussin I believe I have found it.  I got this in addition to the Root Beer Extract I ordered (which was good) and made some cherry soda.  The fl...</td>\n",
       "    </tr>\n",
       "    <tr>\n",
       "      <th>4</th>\n",
       "      <td>5</td>\n",
       "      <td>B006K2ZZ7K</td>\n",
       "      <td>A1UQRSCLF8GW1T</td>\n",
       "      <td>Michael D. Bigham \"M. Wassir\"</td>\n",
       "      <td>0</td>\n",
       "      <td>0</td>\n",
       "      <td>5</td>\n",
       "      <td>1350777600</td>\n",
       "      <td>Great taffy</td>\n",
       "      <td>Great taffy at a great price.  There was a wide assortment of yummy taffy.  Delivery was very quick.  If your a taffy lover, this is a deal.</td>\n",
       "    </tr>\n",
       "  </tbody>\n",
       "</table>\n",
       "</div>"
      ],
      "text/plain": [
       "   Id   ProductId          UserId                      ProfileName  \\\n",
       "0   1  B001E4KFG0  A3SGXH7AUHU8GW                       delmartian   \n",
       "1   2  B00813GRG4  A1D87F6ZCVE5NK                           dll pa   \n",
       "2   3  B000LQOCH0   ABXLMWJIXXAIN  Natalia Corres \"Natalia Corres\"   \n",
       "3   4  B000UA0QIQ  A395BORC6FGVXV                             Karl   \n",
       "4   5  B006K2ZZ7K  A1UQRSCLF8GW1T    Michael D. Bigham \"M. Wassir\"   \n",
       "\n",
       "   HelpfulnessNumerator  HelpfulnessDenominator  Score        Time  \\\n",
       "0                     1                       1      5  1303862400   \n",
       "1                     0                       0      1  1346976000   \n",
       "2                     1                       1      4  1219017600   \n",
       "3                     3                       3      2  1307923200   \n",
       "4                     0                       0      5  1350777600   \n",
       "\n",
       "                 Summary  \\\n",
       "0  Good Quality Dog Food   \n",
       "1      Not as Advertised   \n",
       "2  \"Delight\" says it all   \n",
       "3         Cough Medicine   \n",
       "4            Great taffy   \n",
       "\n",
       "                                                                                                                                                                                                      Text  \n",
       "0  I have bought several of the Vitality canned dog food products and have found them all to be of good quality. The product looks more like a stew than a processed meat and it smells better. My Labr...  \n",
       "1           Product arrived labeled as Jumbo Salted Peanuts...the peanuts were actually small sized unsalted. Not sure if this was an error or if the vendor intended to represent the product as \"Jumbo\".  \n",
       "2  This is a confection that has been around a few centuries.  It is a light, pillowy citrus gelatin with nuts - in this case Filberts. And it is cut into tiny squares and then liberally coated with ...  \n",
       "3  If you are looking for the secret ingredient in Robitussin I believe I have found it.  I got this in addition to the Root Beer Extract I ordered (which was good) and made some cherry soda.  The fl...  \n",
       "4                                                             Great taffy at a great price.  There was a wide assortment of yummy taffy.  Delivery was very quick.  If your a taffy lover, this is a deal.  "
      ]
     },
     "execution_count": 4,
     "metadata": {},
     "output_type": "execute_result"
    }
   ],
   "source": [
    "reviews.head()"
   ]
  },
  {
   "cell_type": "markdown",
   "metadata": {},
   "source": [
    "### contraction dictionary"
   ]
  },
  {
   "cell_type": "code",
   "execution_count": 5,
   "metadata": {},
   "outputs": [],
   "source": [
    "contraction_mapping = {\"ain't\": \"is not\", \"aren't\": \"are not\",\"can't\": \"cannot\", \"'cause\": \"because\", \"could've\": \"could have\", \"couldn't\": \"could not\",\n",
    "                           \"didn't\": \"did not\",  \"doesn't\": \"does not\", \"don't\": \"do not\", \"hadn't\": \"had not\", \"hasn't\": \"has not\", \"haven't\": \"have not\",\n",
    "                           \"he'd\": \"he would\",\"he'll\": \"he will\", \"he's\": \"he is\", \"how'd\": \"how did\", \"how'd'y\": \"how do you\", \"how'll\": \"how will\", \"how's\": \"how is\",\n",
    "                           \"I'd\": \"I would\", \"I'd've\": \"I would have\", \"I'll\": \"I will\", \"I'll've\": \"I will have\",\"I'm\": \"I am\", \"I've\": \"I have\", \"i'd\": \"i would\",\n",
    "                           \"i'd've\": \"i would have\", \"i'll\": \"i will\",  \"i'll've\": \"i will have\",\"i'm\": \"i am\", \"i've\": \"i have\", \"isn't\": \"is not\", \"it'd\": \"it would\",\n",
    "                           \"it'd've\": \"it would have\", \"it'll\": \"it will\", \"it'll've\": \"it will have\",\"it's\": \"it is\", \"let's\": \"let us\", \"ma'am\": \"madam\",\n",
    "                           \"mayn't\": \"may not\", \"might've\": \"might have\",\"mightn't\": \"might not\",\"mightn't've\": \"might not have\", \"must've\": \"must have\",\n",
    "                           \"mustn't\": \"must not\", \"mustn't've\": \"must not have\", \"needn't\": \"need not\", \"needn't've\": \"need not have\",\"o'clock\": \"of the clock\",\n",
    "                           \"oughtn't\": \"ought not\", \"oughtn't've\": \"ought not have\", \"shan't\": \"shall not\", \"sha'n't\": \"shall not\", \"shan't've\": \"shall not have\",\n",
    "                           \"she'd\": \"she would\", \"she'd've\": \"she would have\", \"she'll\": \"she will\", \"she'll've\": \"she will have\", \"she's\": \"she is\",\n",
    "                           \"should've\": \"should have\", \"shouldn't\": \"should not\", \"shouldn't've\": \"should not have\", \"so've\": \"so have\",\"so's\": \"so as\",\n",
    "                           \"this's\": \"this is\",\"that'd\": \"that would\", \"that'd've\": \"that would have\", \"that's\": \"that is\", \"there'd\": \"there would\",\n",
    "                           \"there'd've\": \"there would have\", \"there's\": \"there is\", \"here's\": \"here is\",\"they'd\": \"they would\", \"they'd've\": \"they would have\",\n",
    "                           \"they'll\": \"they will\", \"they'll've\": \"they will have\", \"they're\": \"they are\", \"they've\": \"they have\", \"to've\": \"to have\",\n",
    "                           \"wasn't\": \"was not\", \"we'd\": \"we would\", \"we'd've\": \"we would have\", \"we'll\": \"we will\", \"we'll've\": \"we will have\", \"we're\": \"we are\",\n",
    "                           \"we've\": \"we have\", \"weren't\": \"were not\", \"what'll\": \"what will\", \"what'll've\": \"what will have\", \"what're\": \"what are\",\n",
    "                           \"what's\": \"what is\", \"what've\": \"what have\", \"when's\": \"when is\", \"when've\": \"when have\", \"where'd\": \"where did\", \"where's\": \"where is\",\n",
    "                           \"where've\": \"where have\", \"who'll\": \"who will\", \"who'll've\": \"who will have\", \"who's\": \"who is\", \"who've\": \"who have\",\n",
    "                           \"why's\": \"why is\", \"why've\": \"why have\", \"will've\": \"will have\", \"won't\": \"will not\", \"won't've\": \"will not have\",\n",
    "                           \"would've\": \"would have\", \"wouldn't\": \"would not\", \"wouldn't've\": \"would not have\", \"y'all\": \"you all\",\n",
    "                           \"y'all'd\": \"you all would\",\"y'all'd've\": \"you all would have\",\"y'all're\": \"you all are\",\"y'all've\": \"you all have\",\n",
    "                           \"you'd\": \"you would\", \"you'd've\": \"you would have\", \"you'll\": \"you will\", \"you'll've\": \"you will have\",\n",
    "                           \"you're\": \"you are\", \"you've\": \"you have\"}"
   ]
  },
  {
   "cell_type": "markdown",
   "metadata": {},
   "source": [
    "### defining text cleaner function"
   ]
  },
  {
   "cell_type": "code",
   "execution_count": 6,
   "metadata": {},
   "outputs": [],
   "source": [
    "stop = set(stopwords.words('english')) \n",
    "\n",
    "def clean_line(text,num):\n",
    "        '''\n",
    "        clean_line\n",
    "\n",
    "        input: line (str) - a line from the script\n",
    "        return: list of cleaned, lemetized tokens\n",
    "\n",
    "        This does all the NLP preprocessing:\n",
    "            * lower text\n",
    "            * split on special characters, while removing annotations\n",
    "            * remove stop words\n",
    "            * perform lemmetization\n",
    "            *** MIGHT REMOVE IMPORTANT WORDS IDK MAN\n",
    "        '''\n",
    "        line = text.lower()\n",
    "        line = BS(line, \"lxml\").text\n",
    "        line = re.sub(r'\\([^)]*\\)', '', line)\n",
    "        line = re.sub('\"','', line)\n",
    "        line = ' '.join([contraction_mapping[t] if t in contraction_mapping else t for t in line.split(\" \")])    \n",
    "        line = re.sub(r\"'s\\b\",\"\",line)\n",
    "        line = re.sub(\"[^a-zA-Z]\", \" \", line) \n",
    "        line = re.sub('[m]{2,}', 'mm', line)\n",
    "        if(num==0):\n",
    "            tokens = [w for w in line.split() if not w in stop]\n",
    "        else:\n",
    "            tokens=line.split()\n",
    "        long_words=[]\n",
    "        for i in tokens:\n",
    "            if len(i)>1:                                                \n",
    "                long_words.append(i)   \n",
    "        return (\" \".join(long_words)).strip()"
   ]
  },
  {
   "cell_type": "markdown",
   "metadata": {},
   "source": [
    "### running the above function on the 'Text' column, this takes a while"
   ]
  },
  {
   "cell_type": "code",
   "execution_count": 7,
   "metadata": {},
   "outputs": [],
   "source": [
    "cleaned_text = []\n",
    "for t in reviews['Text']:\n",
    "    cleaned_text.append(clean_line(t,0))"
   ]
  },
  {
   "cell_type": "code",
   "execution_count": 8,
   "metadata": {},
   "outputs": [
    {
     "data": {
      "text/plain": [
       "['bought several vitality canned dog food products found good quality product looks like stew processed meat smells better labrador finicky appreciates product better',\n",
       " 'product arrived labeled jumbo salted peanuts peanuts actually small sized unsalted sure error vendor intended represent product jumbo',\n",
       " 'confection around centuries light pillowy citrus gelatin nuts case filberts cut tiny squares liberally coated powdered sugar tiny mouthful heaven chewy flavorful highly recommend yummy treat familiar story lewis lion witch wardrobe treat seduces edmund selling brother sisters witch',\n",
       " 'looking secret ingredient robitussin believe found got addition root beer extract ordered made cherry soda flavor medicinal',\n",
       " 'great taffy great price wide assortment yummy taffy delivery quick taffy lover deal']"
      ]
     },
     "execution_count": 8,
     "metadata": {},
     "output_type": "execute_result"
    }
   ],
   "source": [
    "cleaned_text[:5]"
   ]
  },
  {
   "cell_type": "code",
   "execution_count": 9,
   "metadata": {},
   "outputs": [],
   "source": [
    "cleaned_summ = []\n",
    "for t in reviews['Summary']:\n",
    "    cleaned_summ.append(clean_line(t,1))"
   ]
  },
  {
   "cell_type": "code",
   "execution_count": 10,
   "metadata": {},
   "outputs": [
    {
     "data": {
      "text/plain": [
       "['good quality dog food',\n",
       " 'not as advertised',\n",
       " 'delight says it all',\n",
       " 'cough medicine',\n",
       " 'great taffy']"
      ]
     },
     "execution_count": 10,
     "metadata": {},
     "output_type": "execute_result"
    }
   ],
   "source": [
    "cleaned_summ[:5]"
   ]
  },
  {
   "cell_type": "code",
   "execution_count": null,
   "metadata": {},
   "outputs": [],
   "source": []
  },
  {
   "cell_type": "code",
   "execution_count": 11,
   "metadata": {},
   "outputs": [],
   "source": [
    "df = pd.DataFrame()"
   ]
  },
  {
   "cell_type": "code",
   "execution_count": 12,
   "metadata": {},
   "outputs": [],
   "source": [
    "df['Text']= cleaned_text"
   ]
  },
  {
   "cell_type": "code",
   "execution_count": 13,
   "metadata": {},
   "outputs": [],
   "source": [
    "df['Summary']= cleaned_summ"
   ]
  },
  {
   "cell_type": "code",
   "execution_count": 23,
   "metadata": {},
   "outputs": [
    {
     "data": {
      "image/png": "[encoded data removed]",
      "text/plain": [
       "<Figure size 432x288 with 2 Axes>"
      ]
     },
     "metadata": {
      "needs_background": "light"
     },
     "output_type": "display_data"
    }
   ],
   "source": [
    "import matplotlib.pyplot as plt\n",
    "\n",
    "text_word_count = []\n",
    "summary_word_count = []\n",
    "\n",
    "# plotting distribution of word/text lengths\n",
    "for i in df['Text']:\n",
    "      text_word_count.append(len(i.split()))\n",
    "\n",
    "for i in df['Summary']:\n",
    "      summary_word_count.append(len(i.split()))\n",
    "\n",
    "length_df = pd.DataFrame({'text':text_word_count, 'summary':summary_word_count})\n",
    "\n",
    "length_df.hist(bins = 30)\n",
    "plt.ylabel('count')\n",
    "plt.show()"
   ]
  },
  {
   "cell_type": "code",
   "execution_count": 24,
   "metadata": {},
   "outputs": [],
   "source": [
    "df.Text = df.Text.apply(str)\n",
    "df.Summary = df.Summary.apply(str)"
   ]
  },
  {
   "cell_type": "code",
   "execution_count": 25,
   "metadata": {},
   "outputs": [],
   "source": [
    "df.to_csv('training2.csv',index=False)\n"
   ]
  },
  {
   "cell_type": "code",
   "execution_count": 26,
   "metadata": {},
   "outputs": [],
   "source": [
    "from data.processor import DataProcessor\n",
    "from keras.models import Model\n",
    "from keras.layers import Input, LSTM, Dense, RNN\n",
    "from keras.optimizers import Adam\n",
    "from numpy import array\n",
    "\n",
    "\n",
    "from keras.callbacks import ModelCheckpoint\n",
    "from keras.callbacks import CSVLogger\n",
    "from keras.callbacks import EarlyStopping\n",
    "from keras.callbacks import ReduceLROnPlateau\n",
    "\n",
    "import keras.regularizers as regularizers\n"
   ]
  },
  {
   "cell_type": "code",
   "execution_count": 27,
   "metadata": {},
   "outputs": [],
   "source": [
    "test = pd.read_csv('training2.csv',dtype=str)"
   ]
  },
  {
   "cell_type": "code",
   "execution_count": 28,
   "metadata": {},
   "outputs": [
    {
     "data": {
      "text/plain": [
       "0                                           bought several vitality canned dog food products found good quality product looks like stew processed meat smells better labrador finicky appreciates product better\n",
       "1                                                                          product arrived labeled jumbo salted peanuts peanuts actually small sized unsalted sure error vendor intended represent product jumbo\n",
       "2        confection around centuries light pillowy citrus gelatin nuts case filberts cut tiny squares liberally coated powdered sugar tiny mouthful heaven chewy flavorful highly recommend yummy treat famil...\n",
       "3                                                                                    looking secret ingredient robitussin believe found got addition root beer extract ordered made cherry soda flavor medicinal\n",
       "4                                                                                                                            great taffy great price wide assortment yummy taffy delivery quick taffy lover deal\n",
       "5        got wild hair taffy ordered five pound bag taffy enjoyable many flavors watermelon root beer melon peppermint grape etc complaint bit much red black licorice flavored pieces kids husband lasted tw...\n",
       "6        saltwater taffy great flavors soft chewy candy individually wrapped well none candies stuck together happen expensive version fralinger would highly recommend candy served beach themed party every...\n",
       "7                                                                                                                             taffy good soft chewy flavors amazing would definitely recommend buying satisfying\n",
       "8                                                                                                                                        right mostly sprouting cats eat grass love rotate around wheatgrass rye\n",
       "9                                                                                                                 healthy dog food good digestion also good small puppies dog eats required amount every feeding\n",
       "10       know cactus tequila unique combination ingredients flavour hot sauce makes one kind picked bottle trip brought back home us totally blown away realized simply could find anywhere city bummed magic...\n",
       "11                               one boys needed lose weight put food floor chubby guy protein rich product food higher skinny boy jump higher food sits going stale really go food chubby boy losing ounce week\n",
       "12       cats happily eating felidae platinum two years got new bag shape food different tried new food first put bowls bowls sit full kitties touch food noticed similar reviews related formula changes pas...\n",
       "13                                                                                                                                               good flavor came securely packed fresh delicious love twizzlers\n",
       "14                                                                                                                                              strawberry twizzlers guilty pleasure yummy six pounds around son\n",
       "15                                                                                           daughter loves twizzlers shipment six pounds really hit spot exactly would expect six packages strawberry twizzlers\n",
       "16                                                                                                   love eating good watching tv looking movies sweet like transfer zip lock baggie stay fresh take time eating\n",
       "17                                                                                                                                         satisfied twizzler purchase shared others enjoyed definitely ordering\n",
       "18       twizzlers strawberry childhood favorite candy made lancaster pennsylvania candies inc one oldest confectionery firms united states subsidiary hershey company company established young smylie also ...\n",
       "19                                                                                                                           candy delivered fast purchased reasonable price home bound unable get store perfect\n",
       "20                                        husband twizzlers addict bought many times amazon government employees living overseas cannot get country assigned always fresh tasty packed well arrive timely manner\n",
       "21                                                     bought husband currently overseas loves apparently staff likes also generous amounts twizzlers ounce bag well worth price twizzlers strawberry ounce bags\n",
       "22                                                                                                                             remember buying candy kid quality dropped years still superb product disappointed\n",
       "23                                                                                                                                                             love candy weight watchers cut back still craving\n",
       "24                                                                                 lived us yrs miss twizzlers go back visit someone visits always stock say yum sell mexico faithful buyer often able buy right\n",
       "25                                                                                                                                                   product received advertised twizzlers strawberry ounce bags\n",
       "26                                                                                                                                                                   candy red flavor plan chewy would never buy\n",
       "27                                                                                                glad amazon carried batteries hard time finding elsewhere unique size need garage door opener great deal price\n",
       "28       got mum diabetic needs watch sugar intake father simply chooses limit unnecessary sugar intake one sweet tooth loved toffees would never guess sugar free great eat pretty much guilt free impressed...\n",
       "29       never huge coffee fan however mother purchased little machine talked trying latte macciato coffee shop better one like products little dolche guesto machine super easy use prepares really good cof...\n",
       "                                                                                                          ...                                                                                                   \n",
       "88391                                                     like spicy ramen noodles choice like ones husband used eat korea kid naturally love also pretty expensive stores amazon usually sells reasonable price\n",
       "88392                                                                                                                                  taste one bought asian supermarket recall chinese style noodles delicious\n",
       "88393    first kudos super saver shipping option got ordering two cases nong shim shin ramyun made affordable type superior three minute ramen one get especially hawaii food imported thus expensive become ...\n",
       "88394    love hard think anything else cheap warming satisfying delicious use little water called directions add tablespoons dried diced bell peppers bit nutrition adding noodles packet contents noodles co...\n",
       "88395    preface say like spicy things salsa buffalo wings usually like hottest variety everything imagine surprise heard magical splcy picante ramen figured could possibly bad ordered box check came eager...\n",
       "88396                                                                                                                                               best noodle ever every time add eggs vegies try never forget\n",
       "88397    browsing amazon came across noodles realized noodles ages used eat time hard brick type noodles boil water minutes love spicy add spice almost everything eat lived middle far east cooked first pac...\n",
       "88398                                                                                                                           best tasting artery clogging high blood pressure inducing ramen ever tasted yumm\n",
       "88399    noodles fine filling make simple cheap meal vegetables slices meat eggs thrown spice packet bit overwhelming starting stick using quarter packet first dehydrated vegetables nice touch though take ...\n",
       "88400    first exposure shin ramyun years back japanese grocer available shin cups picked thought looked best seller almost cup became pricey treat feel love immediately hearty noodles rich fiery broth end...\n",
       "88401                                                                                                                      bought product strictly review others right noodles great way better top ramen buying\n",
       "88402                                                                                                                        hot delicious noodle good although later found little cheaper local asian food mart\n",
       "88403                       say spicy tasty noodles wife loves noodles buys asian market miles away house happy amazon sells comparable price includes free shipping saves us expense hassle driving across town\n",
       "88404    purchased noodle local supermarket years due rising cost everything got expensive ever please find amazon carry promotional offer paid lot less market delivery quick taste spicy put whole pack sea...\n",
       "88405    stuff awesome right amount spice noodles much thicker flavorful standard pack stuff get wrong love regular top ramen much better throw left chicken frozen corn peas egg excellent meal add ice cold...\n",
       "88406    nong shim soup good spicy addicting really like chicken original spicy noodles yeah msg every soup including name brand soups like cambells chef boyardee lot salty foods list goes including chips ...\n",
       "88407    bought whim deal day boy glad big fan maruchan top ramen read reviews saw close real thing noodles great consistency cook minutes al dente even sit bowl minutes cooling another plus fact flavor pa...\n",
       "88408                                                                                                                        apparently used much synthetic flavors burns tongue also much oil almost made choke\n",
       "88409    stacks shin ramyun stored sold every korean airport duty free shops one complaining buying average buck bag extra spice needed really hot flavor cooking stone pot extra egg fresh kimchi beef bring...\n",
       "88410                                          several places around world including russia mongolia ask ramen ramen one give best tasty enhance flavor often throw shrimp mushroom sliced onion mucho delicious\n",
       "88411                                                                                                                                               item really price buy local asian grocery stores lot cheaper\n",
       "88412                                                                                                             would say noodles packaged product plain bad spice packet par whats expected noodles taste bad\n",
       "88413    originally decided purchase particular brand ramen seeing positive reviews amazon bit apprehensive first fearing would enjoy since never tried brand glad turned delicious spiciness although explai...\n",
       "88414                                                                                                                            stuff awesome best flavor boil water drain water add spice packet add hot water\n",
       "88415                                                                                                                                                                       love noodle little spicy wife perfct\n",
       "88416                                                                                                                                                                         love buy another box done last one\n",
       "88417    late father law used rating system meals particularly tasty would say tastes like exactly felt first time tried spicy picante ramyun ordered whim featured gold box deal would enjoyed ramen noodles...\n",
       "88418                                                                                           favorite brand korean ramen spicy used eating spicy food make sure use spice pack add egg soup makes great snack\n",
       "88419    like noodles although say spicy somewhat understatement one else family tolerates spicy well seeing looking forward extra little something palate disappointed completely honest usually drain liqui...\n",
       "88420                                                                       love noodle twice week amazing thing feel well cold hot bowl noodle cure upset stomach headache running nose may work definitely try\n",
       "Name: Text, Length: 88421, dtype: object"
      ]
     },
     "execution_count": 28,
     "metadata": {},
     "output_type": "execute_result"
    }
   ],
   "source": [
    "test.Text"
   ]
  },
  {
   "cell_type": "code",
   "execution_count": 29,
   "metadata": {},
   "outputs": [
    {
     "name": "stdout",
     "output_type": "stream",
     "text": [
      "columns\n",
      "Index(['Text', 'Summary'], dtype='object')\n",
      "0.24.2\n"
     ]
    }
   ],
   "source": [
    "train = DataProcessor('training2.csv',hold_out_file=None)"
   ]
  },
  {
   "cell_type": "code",
   "execution_count": 30,
   "metadata": {},
   "outputs": [],
   "source": [
    "train.set_attributes()"
   ]
  },
  {
   "cell_type": "code",
   "execution_count": 31,
   "metadata": {},
   "outputs": [
    {
     "ename": "AttributeError",
     "evalue": "'DataProcessor' object has no attribute 'source_length'",
     "output_type": "error",
     "traceback": [
      "\u001b[0;31m---------------------------------------------------------------------------\u001b[0m",
      "\u001b[0;31mAttributeError\u001b[0m                            Traceback (most recent call last)",
      "\u001b[0;32m<ipython-input-31-bdaff8b9ea2e>\u001b[0m in \u001b[0;36m<module>\u001b[0;34m\u001b[0m\n\u001b[1;32m      8\u001b[0m \u001b[0;34m\u001b[0m\u001b[0m\n\u001b[1;32m      9\u001b[0m \u001b[0;31m# Encoder Input\u001b[0m\u001b[0;34m\u001b[0m\u001b[0;34m\u001b[0m\u001b[0;34m\u001b[0m\u001b[0m\n\u001b[0;32m---> 10\u001b[0;31m \u001b[0mencoder_input\u001b[0m \u001b[0;34m=\u001b[0m \u001b[0mInput\u001b[0m\u001b[0;34m(\u001b[0m\u001b[0mshape\u001b[0m\u001b[0;34m=\u001b[0m\u001b[0;34m(\u001b[0m\u001b[0mtrain\u001b[0m\u001b[0;34m.\u001b[0m\u001b[0msource_length\u001b[0m\u001b[0;34m,\u001b[0m\u001b[0;34m)\u001b[0m\u001b[0;34m,\u001b[0m \u001b[0mname\u001b[0m\u001b[0;34m=\u001b[0m\u001b[0;34m\"encoder_input\"\u001b[0m\u001b[0;34m)\u001b[0m\u001b[0;34m\u001b[0m\u001b[0;34m\u001b[0m\u001b[0m\n\u001b[0m\u001b[1;32m     11\u001b[0m \u001b[0;34m\u001b[0m\u001b[0m\n\u001b[1;32m     12\u001b[0m encoder_embedding= Embedding(training.vocab_size\n",
      "\u001b[0;31mAttributeError\u001b[0m: 'DataProcessor' object has no attribute 'source_length'"
     ]
    }
   ],
   "source": [
    "# model creation\n",
    "\n",
    "latent_dim = 384\n",
    "embedding_dim = 96\n",
    "batch_size = 64\n",
    "drop_rate=0.25\n",
    "\n",
    "\n",
    "# Encoder Input\n",
    "encoder_input = Input(shape=(train.source_length,), name=\"encoder_input\")\n",
    "\n",
    "encoder_embedding= Embedding(training.vocab_size\n",
    "                            ,embedding_dim\n",
    "                            ,input_length = train.source_length\n",
    "                            ,batch_size = None\n",
    "                            ,mask_zero=True\n",
    "                            ,name='encoder_embedding')\n",
    "\n",
    "encoder_embedding_out = encoder_embedding(encoder_input)\n",
    "\n",
    "encoder_embedding_out = Dropout(drop_rate)(encoder_embedding_out)\n",
    "\n",
    "\n",
    "encoder = LSTM(latent_dim,return_state=True)\n",
    "\n",
    "encoder_outputs, state_h, state_c = encoder(encoder_embedding_out)\n",
    "\n",
    "encoder_states = [state_h,state_c] \n",
    "\n",
    "# Setting up decoder\n",
    "decoder_input = Inputs(shape=(train.target_length,),name='decoder_input')\n",
    "\n",
    "decoder_embedding= Embedding(training.vocab_size\n",
    "                            ,embedding_dim\n",
    "                            ,input_length = train.target_length\n",
    "                            ,batch_size = None\n",
    "                            ,mask_zero=True\n",
    "                            ,name='decoder_embedding')\n",
    "\n",
    "decoder_embedding_out = decoder_embedding(decoder_input)\n",
    "\n",
    "decoder_embedding_out = Dropout(drop_rate)(decoder_embedding_out)\n",
    "\n",
    "## Setting up decoder\n",
    "\n",
    "decoder_lstm = LSTM(latent_dim, return_sequences=True, return_state=True)\n",
    "\n",
    "decoder_outputs,dh1,dc1 = decoder_lstm(decoder_embedding_out\n",
    "                                      ,initial_state = encoder_states)\n",
    "\n",
    "dense = Dense(training.vocab_size,activation = 'softmax')\n",
    "\n",
    "decoder_outputs = dense(decoder_outputs)\n",
    "\n",
    "model_training = Model([encoder_input,decoder_input],decoder_outputs)\n",
    "\n",
    "learning_rate = 0.0025\n",
    "lr_decay = 0.00001\n",
    "\n",
    "opt = Adam(lr=learning_rate,decay=lr_decay)\n",
    "\n",
    "model_training.compile(optimizer=opt,loss='categorical_crossentropy')\n",
    "\n",
    "model_training.summary()\n",
    "\n",
    "\n",
    "\n",
    "\n",
    "\n",
    "\n",
    "\n",
    "\n",
    "\n",
    "\n",
    "\n",
    "\n",
    "\n",
    "\n",
    "\n",
    "\n"
   ]
  },
  {
   "cell_type": "code",
   "execution_count": null,
   "metadata": {},
   "outputs": [],
   "source": []
  },
  {
   "cell_type": "code",
   "execution_count": null,
   "metadata": {},
   "outputs": [],
   "source": []
  }
 ],
 "metadata": {
  "kernelspec": {
   "display_name": "Python 3",
   "language": "python",
   "name": "python3"
  },
  "language_info": {
   "codemirror_mode": {
    "name": "ipython",
    "version": 3
   },
   "file_extension": ".py",
   "mimetype": "text/x-python",
   "name": "python",
   "nbconvert_exporter": "python",
   "pygments_lexer": "ipython3",
   "version": "3.7.3"
  }
 },
 "nbformat": 4,
 "nbformat_minor": 2
}
